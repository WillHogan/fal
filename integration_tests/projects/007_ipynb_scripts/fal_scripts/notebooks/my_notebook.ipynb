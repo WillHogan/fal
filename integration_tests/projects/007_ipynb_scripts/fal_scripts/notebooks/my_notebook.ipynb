{
 "cells": [
  {
   "cell_type": "markdown",
   "id": "2bf09a14",
   "metadata": {
    "collapsed": false
   },
   "source": [
    "Do imports"
   ]
  },
  {
   "cell_type": "code",
   "execution_count": null,
   "id": "2346bd82",
   "metadata": {
    "collapsed": false
   },
   "outputs": [],
   "source": [
    "import pandas as pd\n",
    "import io\n",
    "import os\n",
    "from functools import reduce\n",
    "from fal import FalDbt"
   ]
  },
  {
   "cell_type": "markdown",
   "id": "88f034d9",
   "metadata": {
    "collapsed": false
   },
   "source": [
    "Initiate FalDbt"
   ]
  },
  {
   "cell_type": "code",
   "execution_count": null,
   "id": "696f6b49",
   "metadata": {
    "collapsed": false
   },
   "outputs": [],
   "source": [
    "profiles_dir = os.environ[\"profiles_dir\"]\n",
    "project_dir = os.environ[\"project_dir\"]\n",
    "fal_dbt = FalDbt(profiles_dir=profiles_dir, project_dir=project_dir)"
   ]
  },
  {
   "cell_type": "markdown",
   "id": "5a0287e9",
   "metadata": {
    "collapsed": false
   },
   "source": [
    "Function for finding a model"
   ]
  },
  {
   "cell_type": "code",
   "execution_count": null,
   "id": "f5c42bd7",
   "metadata": {
    "collapsed": false
   },
   "outputs": [],
   "source": [
    "def find_model(model_name: str):\n",
    "    models = fal_dbt.list_models()\n",
    "    return [model for model in models if model.name == model_name][0]"
   ]
  },
  {
   "cell_type": "markdown",
   "id": "52302a32",
   "metadata": {
    "collapsed": false
   },
   "source": [
    "Function for writing dataframe data in a file"
   ]
  },
  {
   "cell_type": "code",
   "execution_count": null,
   "id": "7a3cf406",
   "metadata": {
    "collapsed": false
   },
   "outputs": [],
   "source": [
    "def check_and_write_data(model_name: str):\n",
    "    output = f\"Model name: {model_name}\"\n",
    "    model = find_model(model_name)\n",
    "    output = output + f\"\\nStatus: {model.status}\"\n",
    "    df = fal_dbt.ref(model_name)\n",
    "    df.columns = df.columns.str.lower()\n",
    "\n",
    "    if hasattr(df, \"extra_col\"):\n",
    "        output = f\"extra_col: {df.extra_col[0]}\\n\"\n",
    "    else:\n",
    "        output = \"no extra_col\\n\"\n",
    "\n",
    "\n",
    "    temp_dir = os.environ[\"temp_dir\"]\n",
    "    write_dir = open(reduce(os.path.join, [temp_dir, model_name + \".my_notebook.txt\"]), \"w\")\n",
    "    write_dir.write(output)\n",
    "    write_dir.close()"
   ]
  },
  {
   "cell_type": "markdown",
   "id": "f8b87e9f",
   "metadata": {
    "collapsed": false
   },
   "source": [
    "Model name"
   ]
  },
  {
   "cell_type": "code",
   "execution_count": null,
   "id": "0db68721",
   "metadata": {
    "collapsed": false
   },
   "outputs": [],
   "source": [
    "model_name = \"zendesk_ticket_data\""
   ]
  },
  {
   "cell_type": "markdown",
   "id": "4f24e2c7",
   "metadata": {
    "collapsed": false
   },
   "source": [
    "Process dataframe"
   ]
  },
  {
   "cell_type": "code",
   "execution_count": null,
   "id": "181abcce",
   "metadata": {
    "collapsed": false
   },
   "outputs": [],
   "source": [
    "check_and_write_data(model_name)"
   ]
  }
 ],
 "metadata": {
  "kernelspec": {
   "argv": [
    "python",
    "-m",
    "ipykernel_launcher",
    "-f",
    "{connection_file}"
   ],
   "display_name": "Python 3 (ipykernel)",
   "env": null,
   "interrupt_mode": "signal",
   "language": "python",
   "metadata": {
    "debugger": true
   },
   "name": "python3"
  },
  "name": "my_notebook.ipynb"
 },
 "nbformat": 4,
 "nbformat_minor": 5
}
