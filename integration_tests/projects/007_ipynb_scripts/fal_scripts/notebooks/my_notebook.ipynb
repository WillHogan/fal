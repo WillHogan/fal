{
 "cells": [
  {
   "cell_type": "markdown",
   "id": "344819e4",
   "metadata": {
    "collapsed": false
   },
   "source": [
    "Do imports"
   ]
  },
  {
   "cell_type": "code",
   "execution_count": null,
   "id": "7242e47e",
   "metadata": {
    "collapsed": false
   },
   "outputs": [],
   "source": [
    "import pandas as pd\n",
    "import io\n",
    "import os\n",
    "from functools import reduce\n",
    "from faldbt.magics import init_fal"
   ]
  },
  {
   "cell_type": "markdown",
   "id": "f934c790",
   "metadata": {
    "collapsed": false
   },
   "source": [
    "Initiate FalDbt"
   ]
  },
  {
   "cell_type": "code",
   "execution_count": null,
   "id": "066fb17e",
   "metadata": {
    "collapsed": false
   },
   "outputs": [],
   "source": [
    "%init_fal project_dir=../.. profiles_dir=../../.."
   ]
  },
  {
   "cell_type": "markdown",
   "id": "deb1c52c",
   "metadata": {
    "collapsed": false
   },
   "source": [
    "Function for finding a model"
   ]
  },
  {
   "cell_type": "code",
   "execution_count": null,
   "id": "0dca2be9",
   "metadata": {
    "collapsed": false
   },
   "outputs": [],
   "source": [
    "def find_model(model_name: str):\n",
    "    models = list_models()\n",
    "    return [model for model in models if model.name == model_name][0]"
   ]
  },
  {
   "cell_type": "markdown",
   "id": "8cbbe4b4",
   "metadata": {
    "collapsed": false
   },
   "source": [
    "Function for writing dataframe data in a file"
   ]
  },
  {
   "cell_type": "code",
   "execution_count": null,
   "id": "91c1d602",
   "metadata": {
    "collapsed": false
   },
   "outputs": [],
   "source": [
    "def check_and_write_data(model_name: str):\n",
    "    output = f\"Model name: {model_name}\"\n",
    "    model = find_model(model_name)\n",
    "    output = output + f\"\\nStatus: {model.status}\"\n",
    "    df = ref(model_name)\n",
    "    df.columns = df.columns.str.lower()\n",
    "\n",
    "    if hasattr(df, \"extra_col\"):\n",
    "        output = f\"extra_col: {df.extra_col[0]}\\n\"\n",
    "    else:\n",
    "        output = \"no extra_col\\n\"\n",
    "\n",
    "\n",
    "    temp_dir = os.environ[\"temp_dir\"]\n",
    "    write_dir = open(reduce(os.path.join, [temp_dir, model_name + \".my_notebook.txt\"]), \"w\")\n",
    "    write_dir.write(output)\n",
    "    write_dir.close()"
   ]
  },
  {
   "cell_type": "markdown",
   "id": "b1059be6",
   "metadata": {
    "collapsed": false
   },
   "source": [
    "Model name"
   ]
  },
  {
   "cell_type": "code",
   "execution_count": null,
   "id": "258b83ee",
   "metadata": {
    "collapsed": false
   },
   "outputs": [],
   "source": [
    "model_name = \"zendesk_ticket_data\""
   ]
  },
  {
   "cell_type": "markdown",
   "id": "6b547055",
   "metadata": {
    "collapsed": false
   },
   "source": [
    "Process dataframe"
   ]
  },
  {
   "cell_type": "code",
   "execution_count": null,
   "id": "89fb88d8",
   "metadata": {
    "collapsed": false
   },
   "outputs": [],
   "source": [
    "check_and_write_data(model_name)"
   ]
  }
 ],
 "metadata": {
  "kernelspec": {
   "argv": [
    "python",
    "-m",
    "ipykernel_launcher",
    "-f",
    "{connection_file}"
   ],
   "display_name": "Python 3 (ipykernel)",
   "env": null,
   "interrupt_mode": "signal",
   "language": "python",
   "metadata": {
    "debugger": true
   },
   "name": "python3"
  },
  "name": "my_notebook.ipynb"
 },
 "nbformat": 4,
 "nbformat_minor": 5
}
